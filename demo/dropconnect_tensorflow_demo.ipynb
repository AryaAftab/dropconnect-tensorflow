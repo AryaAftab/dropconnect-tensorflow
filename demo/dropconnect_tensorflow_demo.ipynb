{
  "nbformat": 4,
  "nbformat_minor": 0,
  "metadata": {
    "colab": {
      "name": "DropConnect-Tensorflow.ipynb",
      "provenance": [],
      "collapsed_sections": []
    },
    "kernelspec": {
      "name": "python3",
      "display_name": "Python 3"
    },
    "language_info": {
      "name": "python"
    },
    "accelerator": "GPU"
  },
  "cells": [
    {
      "cell_type": "code",
      "metadata": {
        "colab": {
          "base_uri": "https://localhost:8080/"
        },
        "id": "TmpujO80SONl",
        "outputId": "47bbd342-5346-4b5b-e9ec-811ab3d83a46"
      },
      "source": [
        "!pip install dropconnect-tensorflow"
      ],
      "execution_count": 1,
      "outputs": [
        {
          "output_type": "stream",
          "text": [
            "Collecting dropconnect-tensorflow\n",
            "  Downloading dropconnect-tensorflow-0.0.2.tar.gz (3.6 kB)\n",
            "Requirement already satisfied: tensorflow>=2.3 in /usr/local/lib/python3.7/dist-packages (from dropconnect-tensorflow) (2.6.0)\n",
            "Requirement already satisfied: six~=1.15.0 in /usr/local/lib/python3.7/dist-packages (from tensorflow>=2.3->dropconnect-tensorflow) (1.15.0)\n",
            "Requirement already satisfied: protobuf>=3.9.2 in /usr/local/lib/python3.7/dist-packages (from tensorflow>=2.3->dropconnect-tensorflow) (3.17.3)\n",
            "Requirement already satisfied: google-pasta~=0.2 in /usr/local/lib/python3.7/dist-packages (from tensorflow>=2.3->dropconnect-tensorflow) (0.2.0)\n",
            "Requirement already satisfied: gast==0.4.0 in /usr/local/lib/python3.7/dist-packages (from tensorflow>=2.3->dropconnect-tensorflow) (0.4.0)\n",
            "Requirement already satisfied: grpcio<2.0,>=1.37.0 in /usr/local/lib/python3.7/dist-packages (from tensorflow>=2.3->dropconnect-tensorflow) (1.39.0)\n",
            "Requirement already satisfied: numpy~=1.19.2 in /usr/local/lib/python3.7/dist-packages (from tensorflow>=2.3->dropconnect-tensorflow) (1.19.5)\n",
            "Requirement already satisfied: h5py~=3.1.0 in /usr/local/lib/python3.7/dist-packages (from tensorflow>=2.3->dropconnect-tensorflow) (3.1.0)\n",
            "Requirement already satisfied: keras-preprocessing~=1.1.2 in /usr/local/lib/python3.7/dist-packages (from tensorflow>=2.3->dropconnect-tensorflow) (1.1.2)\n",
            "Requirement already satisfied: clang~=5.0 in /usr/local/lib/python3.7/dist-packages (from tensorflow>=2.3->dropconnect-tensorflow) (5.0)\n",
            "Requirement already satisfied: wrapt~=1.12.1 in /usr/local/lib/python3.7/dist-packages (from tensorflow>=2.3->dropconnect-tensorflow) (1.12.1)\n",
            "Requirement already satisfied: typing-extensions~=3.7.4 in /usr/local/lib/python3.7/dist-packages (from tensorflow>=2.3->dropconnect-tensorflow) (3.7.4.3)\n",
            "Requirement already satisfied: opt-einsum~=3.3.0 in /usr/local/lib/python3.7/dist-packages (from tensorflow>=2.3->dropconnect-tensorflow) (3.3.0)\n",
            "Requirement already satisfied: astunparse~=1.6.3 in /usr/local/lib/python3.7/dist-packages (from tensorflow>=2.3->dropconnect-tensorflow) (1.6.3)\n",
            "Requirement already satisfied: absl-py~=0.10 in /usr/local/lib/python3.7/dist-packages (from tensorflow>=2.3->dropconnect-tensorflow) (0.12.0)\n",
            "Requirement already satisfied: tensorboard~=2.6 in /usr/local/lib/python3.7/dist-packages (from tensorflow>=2.3->dropconnect-tensorflow) (2.6.0)\n",
            "Requirement already satisfied: termcolor~=1.1.0 in /usr/local/lib/python3.7/dist-packages (from tensorflow>=2.3->dropconnect-tensorflow) (1.1.0)\n",
            "Requirement already satisfied: flatbuffers~=1.12.0 in /usr/local/lib/python3.7/dist-packages (from tensorflow>=2.3->dropconnect-tensorflow) (1.12)\n",
            "Requirement already satisfied: tensorflow-estimator~=2.6 in /usr/local/lib/python3.7/dist-packages (from tensorflow>=2.3->dropconnect-tensorflow) (2.6.0)\n",
            "Requirement already satisfied: wheel~=0.35 in /usr/local/lib/python3.7/dist-packages (from tensorflow>=2.3->dropconnect-tensorflow) (0.37.0)\n",
            "Requirement already satisfied: keras~=2.6 in /usr/local/lib/python3.7/dist-packages (from tensorflow>=2.3->dropconnect-tensorflow) (2.6.0)\n",
            "Requirement already satisfied: cached-property in /usr/local/lib/python3.7/dist-packages (from h5py~=3.1.0->tensorflow>=2.3->dropconnect-tensorflow) (1.5.2)\n",
            "Requirement already satisfied: google-auth<2,>=1.6.3 in /usr/local/lib/python3.7/dist-packages (from tensorboard~=2.6->tensorflow>=2.3->dropconnect-tensorflow) (1.34.0)\n",
            "Requirement already satisfied: tensorboard-data-server<0.7.0,>=0.6.0 in /usr/local/lib/python3.7/dist-packages (from tensorboard~=2.6->tensorflow>=2.3->dropconnect-tensorflow) (0.6.1)\n",
            "Requirement already satisfied: setuptools>=41.0.0 in /usr/local/lib/python3.7/dist-packages (from tensorboard~=2.6->tensorflow>=2.3->dropconnect-tensorflow) (57.4.0)\n",
            "Requirement already satisfied: requests<3,>=2.21.0 in /usr/local/lib/python3.7/dist-packages (from tensorboard~=2.6->tensorflow>=2.3->dropconnect-tensorflow) (2.23.0)\n",
            "Requirement already satisfied: tensorboard-plugin-wit>=1.6.0 in /usr/local/lib/python3.7/dist-packages (from tensorboard~=2.6->tensorflow>=2.3->dropconnect-tensorflow) (1.8.0)\n",
            "Requirement already satisfied: werkzeug>=0.11.15 in /usr/local/lib/python3.7/dist-packages (from tensorboard~=2.6->tensorflow>=2.3->dropconnect-tensorflow) (1.0.1)\n",
            "Requirement already satisfied: google-auth-oauthlib<0.5,>=0.4.1 in /usr/local/lib/python3.7/dist-packages (from tensorboard~=2.6->tensorflow>=2.3->dropconnect-tensorflow) (0.4.5)\n",
            "Requirement already satisfied: markdown>=2.6.8 in /usr/local/lib/python3.7/dist-packages (from tensorboard~=2.6->tensorflow>=2.3->dropconnect-tensorflow) (3.3.4)\n",
            "Requirement already satisfied: cachetools<5.0,>=2.0.0 in /usr/local/lib/python3.7/dist-packages (from google-auth<2,>=1.6.3->tensorboard~=2.6->tensorflow>=2.3->dropconnect-tensorflow) (4.2.2)\n",
            "Requirement already satisfied: rsa<5,>=3.1.4 in /usr/local/lib/python3.7/dist-packages (from google-auth<2,>=1.6.3->tensorboard~=2.6->tensorflow>=2.3->dropconnect-tensorflow) (4.7.2)\n",
            "Requirement already satisfied: pyasn1-modules>=0.2.1 in /usr/local/lib/python3.7/dist-packages (from google-auth<2,>=1.6.3->tensorboard~=2.6->tensorflow>=2.3->dropconnect-tensorflow) (0.2.8)\n",
            "Requirement already satisfied: requests-oauthlib>=0.7.0 in /usr/local/lib/python3.7/dist-packages (from google-auth-oauthlib<0.5,>=0.4.1->tensorboard~=2.6->tensorflow>=2.3->dropconnect-tensorflow) (1.3.0)\n",
            "Requirement already satisfied: importlib-metadata in /usr/local/lib/python3.7/dist-packages (from markdown>=2.6.8->tensorboard~=2.6->tensorflow>=2.3->dropconnect-tensorflow) (4.6.4)\n",
            "Requirement already satisfied: pyasn1<0.5.0,>=0.4.6 in /usr/local/lib/python3.7/dist-packages (from pyasn1-modules>=0.2.1->google-auth<2,>=1.6.3->tensorboard~=2.6->tensorflow>=2.3->dropconnect-tensorflow) (0.4.8)\n",
            "Requirement already satisfied: certifi>=2017.4.17 in /usr/local/lib/python3.7/dist-packages (from requests<3,>=2.21.0->tensorboard~=2.6->tensorflow>=2.3->dropconnect-tensorflow) (2021.5.30)\n",
            "Requirement already satisfied: urllib3!=1.25.0,!=1.25.1,<1.26,>=1.21.1 in /usr/local/lib/python3.7/dist-packages (from requests<3,>=2.21.0->tensorboard~=2.6->tensorflow>=2.3->dropconnect-tensorflow) (1.24.3)\n",
            "Requirement already satisfied: chardet<4,>=3.0.2 in /usr/local/lib/python3.7/dist-packages (from requests<3,>=2.21.0->tensorboard~=2.6->tensorflow>=2.3->dropconnect-tensorflow) (3.0.4)\n",
            "Requirement already satisfied: idna<3,>=2.5 in /usr/local/lib/python3.7/dist-packages (from requests<3,>=2.21.0->tensorboard~=2.6->tensorflow>=2.3->dropconnect-tensorflow) (2.10)\n",
            "Requirement already satisfied: oauthlib>=3.0.0 in /usr/local/lib/python3.7/dist-packages (from requests-oauthlib>=0.7.0->google-auth-oauthlib<0.5,>=0.4.1->tensorboard~=2.6->tensorflow>=2.3->dropconnect-tensorflow) (3.1.1)\n",
            "Requirement already satisfied: zipp>=0.5 in /usr/local/lib/python3.7/dist-packages (from importlib-metadata->markdown>=2.6.8->tensorboard~=2.6->tensorflow>=2.3->dropconnect-tensorflow) (3.5.0)\n",
            "Building wheels for collected packages: dropconnect-tensorflow\n",
            "  Building wheel for dropconnect-tensorflow (setup.py) ... \u001b[?25l\u001b[?25hdone\n",
            "  Created wheel for dropconnect-tensorflow: filename=dropconnect_tensorflow-0.0.2-py3-none-any.whl size=3345 sha256=e1f91b49a637c25849e6a6d1c9ddd0b377b9acf31450610733c83a14816444d3\n",
            "  Stored in directory: /root/.cache/pip/wheels/41/c8/0e/a7bfd8f71f7d240e0049c1a33b10ede0f9e6d764c0a195ffd4\n",
            "Successfully built dropconnect-tensorflow\n",
            "Installing collected packages: dropconnect-tensorflow\n",
            "Successfully installed dropconnect-tensorflow-0.0.2\n"
          ],
          "name": "stdout"
        }
      ]
    },
    {
      "cell_type": "code",
      "metadata": {
        "id": "fzbCAp4oj8JY"
      },
      "source": [
        "import numpy as np\n",
        "import tensorflow as tf\n",
        "\n",
        "from tensorflow.keras.layers import Dense, Conv2D, Input, ReLU, BatchNormalization, Flatten, MaxPool2D\n",
        "\n",
        "from dropconnect_tensorflow import DropConnectDense, DropConnectConv2D"
      ],
      "execution_count": 2,
      "outputs": []
    },
    {
      "cell_type": "code",
      "metadata": {
        "id": "SrzhgLWj8ev5"
      },
      "source": [
        ""
      ],
      "execution_count": null,
      "outputs": []
    },
    {
      "cell_type": "markdown",
      "metadata": {
        "id": "0mcQOeIk8fRs"
      },
      "source": [
        "## Test DropConnectDense"
      ]
    },
    {
      "cell_type": "code",
      "metadata": {
        "colab": {
          "base_uri": "https://localhost:8080/"
        },
        "id": "kDadbVKEmL9Q",
        "outputId": "329e0532-6521-49b1-fb28-be3582b6d9c8"
      },
      "source": [
        "# Load MNIST dataset as NumPy arrays\n",
        "(x_train, y_train), (x_test, y_test) = tf.keras.datasets.mnist.load_data()\n",
        "\n",
        "# Preprocess the data\n",
        "x_train = x_train.reshape(-1, 784).astype('float32') / 255\n",
        "x_test = x_test.reshape(-1, 784).astype('float32') / 255"
      ],
      "execution_count": 3,
      "outputs": [
        {
          "output_type": "stream",
          "text": [
            "Downloading data from https://storage.googleapis.com/tensorflow/tf-keras-datasets/mnist.npz\n",
            "11493376/11490434 [==============================] - 0s 0us/step\n",
            "11501568/11490434 [==============================] - 0s 0us/step\n"
          ],
          "name": "stdout"
        }
      ]
    },
    {
      "cell_type": "code",
      "metadata": {
        "id": "UtkdmrgGq-WV"
      },
      "source": [
        "X = tf.keras.layers.Input(shape=(784,))\n",
        "x = DropConnectDense(units=128, prob=0.2, activation=\"relu\", use_bias=True)(X)\n",
        "x = DropConnectDense(units=64, prob=0.5, activation=\"relu\", use_bias=True)(x)\n",
        "y = Dense(10, activation=\"softmax\")(x)\n",
        "\n",
        "model = tf.keras.models.Model(X, y)"
      ],
      "execution_count": 13,
      "outputs": []
    },
    {
      "cell_type": "code",
      "metadata": {
        "colab": {
          "base_uri": "https://localhost:8080/"
        },
        "id": "xmfr_QWlrr0g",
        "outputId": "637a59b4-639f-40e7-adf5-7a39f88bb01c"
      },
      "source": [
        "model.summary()"
      ],
      "execution_count": 14,
      "outputs": [
        {
          "output_type": "stream",
          "text": [
            "Model: \"model_2\"\n",
            "_________________________________________________________________\n",
            "Layer (type)                 Output Shape              Param #   \n",
            "=================================================================\n",
            "input_3 (InputLayer)         [(None, 784)]             0         \n",
            "_________________________________________________________________\n",
            "drop_connect_dense_2 (DropCo (None, 128)               100480    \n",
            "_________________________________________________________________\n",
            "drop_connect_dense_3 (DropCo (None, 64)                8256      \n",
            "_________________________________________________________________\n",
            "dense_3 (Dense)              (None, 10)                650       \n",
            "=================================================================\n",
            "Total params: 109,386\n",
            "Trainable params: 109,386\n",
            "Non-trainable params: 0\n",
            "_________________________________________________________________\n"
          ],
          "name": "stdout"
        }
      ]
    },
    {
      "cell_type": "code",
      "metadata": {
        "colab": {
          "base_uri": "https://localhost:8080/"
        },
        "id": "n0Knle7hr8kg",
        "outputId": "d88c936a-40ce-46e7-8be5-892bc0d58b07"
      },
      "source": [
        "# Hyperparameters\n",
        "batch_size=64\n",
        "epochs=20\n",
        "\n",
        "\n",
        "# Compile the model\n",
        "model.compile(\n",
        "    optimizer=tf.keras.optimizers.Adam(0.0001),  # Utilize optimizer\n",
        "    loss=tf.keras.losses.SparseCategoricalCrossentropy(),\n",
        "    metrics=['accuracy'])\n",
        "\n",
        "# Train the network\n",
        "history = model.fit(\n",
        "    x_train,\n",
        "    y_train,\n",
        "    batch_size=batch_size,\n",
        "    validation_split=0.1,\n",
        "    epochs=epochs)"
      ],
      "execution_count": 6,
      "outputs": [
        {
          "output_type": "stream",
          "text": [
            "Epoch 1/20\n",
            "844/844 [==============================] - 6s 4ms/step - loss: 0.7680 - accuracy: 0.8009 - val_loss: 0.2890 - val_accuracy: 0.9252\n",
            "Epoch 2/20\n",
            "844/844 [==============================] - 3s 3ms/step - loss: 0.2975 - accuracy: 0.9161 - val_loss: 0.2124 - val_accuracy: 0.9437\n",
            "Epoch 3/20\n",
            "844/844 [==============================] - 3s 3ms/step - loss: 0.2368 - accuracy: 0.9328 - val_loss: 0.1813 - val_accuracy: 0.9507\n",
            "Epoch 4/20\n",
            "844/844 [==============================] - 3s 3ms/step - loss: 0.2035 - accuracy: 0.9421 - val_loss: 0.1571 - val_accuracy: 0.9587\n",
            "Epoch 5/20\n",
            "844/844 [==============================] - 3s 3ms/step - loss: 0.1792 - accuracy: 0.9491 - val_loss: 0.1427 - val_accuracy: 0.9615\n",
            "Epoch 6/20\n",
            "844/844 [==============================] - 3s 3ms/step - loss: 0.1608 - accuracy: 0.9545 - val_loss: 0.1353 - val_accuracy: 0.9637\n",
            "Epoch 7/20\n",
            "844/844 [==============================] - 3s 3ms/step - loss: 0.1456 - accuracy: 0.9584 - val_loss: 0.1208 - val_accuracy: 0.9660\n",
            "Epoch 8/20\n",
            "844/844 [==============================] - 3s 3ms/step - loss: 0.1326 - accuracy: 0.9633 - val_loss: 0.1157 - val_accuracy: 0.9668\n",
            "Epoch 9/20\n",
            "844/844 [==============================] - 3s 3ms/step - loss: 0.1214 - accuracy: 0.9659 - val_loss: 0.1110 - val_accuracy: 0.9680\n",
            "Epoch 10/20\n",
            "844/844 [==============================] - 3s 3ms/step - loss: 0.1122 - accuracy: 0.9684 - val_loss: 0.1056 - val_accuracy: 0.9692\n",
            "Epoch 11/20\n",
            "844/844 [==============================] - 3s 3ms/step - loss: 0.1038 - accuracy: 0.9712 - val_loss: 0.0988 - val_accuracy: 0.9708\n",
            "Epoch 12/20\n",
            "844/844 [==============================] - 3s 3ms/step - loss: 0.0960 - accuracy: 0.9729 - val_loss: 0.0984 - val_accuracy: 0.9698\n",
            "Epoch 13/20\n",
            "844/844 [==============================] - 3s 3ms/step - loss: 0.0892 - accuracy: 0.9746 - val_loss: 0.0942 - val_accuracy: 0.9728\n",
            "Epoch 14/20\n",
            "844/844 [==============================] - 3s 3ms/step - loss: 0.0829 - accuracy: 0.9768 - val_loss: 0.0919 - val_accuracy: 0.9727\n",
            "Epoch 15/20\n",
            "844/844 [==============================] - 3s 3ms/step - loss: 0.0775 - accuracy: 0.9781 - val_loss: 0.0889 - val_accuracy: 0.9730\n",
            "Epoch 16/20\n",
            "844/844 [==============================] - 3s 3ms/step - loss: 0.0726 - accuracy: 0.9801 - val_loss: 0.0884 - val_accuracy: 0.9723\n",
            "Epoch 17/20\n",
            "844/844 [==============================] - 3s 3ms/step - loss: 0.0679 - accuracy: 0.9813 - val_loss: 0.0870 - val_accuracy: 0.9748\n",
            "Epoch 18/20\n",
            "844/844 [==============================] - 3s 3ms/step - loss: 0.0636 - accuracy: 0.9825 - val_loss: 0.0859 - val_accuracy: 0.9733\n",
            "Epoch 19/20\n",
            "844/844 [==============================] - 3s 3ms/step - loss: 0.0597 - accuracy: 0.9837 - val_loss: 0.0842 - val_accuracy: 0.9747\n",
            "Epoch 20/20\n",
            "844/844 [==============================] - 3s 3ms/step - loss: 0.0566 - accuracy: 0.9845 - val_loss: 0.0826 - val_accuracy: 0.9758\n"
          ],
          "name": "stdout"
        }
      ]
    },
    {
      "cell_type": "code",
      "metadata": {
        "colab": {
          "base_uri": "https://localhost:8080/"
        },
        "id": "Uz5K0NrzscOl",
        "outputId": "33d27a8e-a256-4105-a2ef-ba54e76fd2f8"
      },
      "source": [
        "# Evaluate the network\n",
        "print('Evaluate on test data:')\n",
        "results = model.evaluate(x_test, y_test, batch_size=128, verbose = 2)\n",
        "print('Test loss = {0}, Test acc: {1}'.format(results[0], results[1]))"
      ],
      "execution_count": 7,
      "outputs": [
        {
          "output_type": "stream",
          "text": [
            "Evaluate on test data:\n",
            "79/79 - 0s - loss: 0.0876 - accuracy: 0.9730\n",
            "Test loss = 0.08760864287614822, Test acc: 0.9729999899864197\n"
          ],
          "name": "stdout"
        }
      ]
    },
    {
      "cell_type": "code",
      "metadata": {
        "id": "05O1HOmItNPt"
      },
      "source": [
        ""
      ],
      "execution_count": 7,
      "outputs": []
    },
    {
      "cell_type": "markdown",
      "metadata": {
        "id": "nnDBWswt8sSK"
      },
      "source": [
        "## Test DropConnectConv2D"
      ]
    },
    {
      "cell_type": "code",
      "metadata": {
        "id": "m87kIbHd8w_-"
      },
      "source": [
        "# Load MNIST dataset as NumPy arrays\n",
        "(x_train, y_train), (x_test, y_test) = tf.keras.datasets.mnist.load_data()\n",
        "\n",
        "# Preprocess the data\n",
        "x_train = np.expand_dims(x_train, axis=-1).astype('float32') / 255\n",
        "x_test = np.expand_dims(x_test, axis=-1).astype('float32') / 255"
      ],
      "execution_count": 8,
      "outputs": []
    },
    {
      "cell_type": "code",
      "metadata": {
        "id": "ZIKVFPZO9C2h"
      },
      "source": [
        "X = tf.keras.layers.Input(shape=(28, 28, 1))\n",
        "x = DropConnectConv2D(filters=64, kernel_size=3, strides=(1, 1), padding='valid', prob=0.1)(X)\n",
        "x = BatchNormalization()(x)\n",
        "x = ReLU()(x)\n",
        "x = MaxPool2D((2,2))(x)\n",
        "x = DropConnectConv2D(filters=128, kernel_size=3, strides=(1, 1), padding='valid', prob=0.1)(x)\n",
        "x = BatchNormalization()(x)\n",
        "x = ReLU()(x)\n",
        "x = MaxPool2D((2,2))(x)\n",
        "\n",
        "x = Flatten()(x)\n",
        "x = DropConnectDense(units=64, prob=0.3, activation=\"relu\", use_bias=True)(x)\n",
        "y = Dense(10, activation=\"softmax\")(x)\n",
        "\n",
        "model = tf.keras.models.Model(X, y)"
      ],
      "execution_count": 9,
      "outputs": []
    },
    {
      "cell_type": "code",
      "metadata": {
        "colab": {
          "base_uri": "https://localhost:8080/"
        },
        "id": "2cmYH-z39vAo",
        "outputId": "62adba81-e229-475c-ab01-986813e323c6"
      },
      "source": [
        "model.summary()"
      ],
      "execution_count": 10,
      "outputs": [
        {
          "output_type": "stream",
          "text": [
            "Model: \"model_1\"\n",
            "_________________________________________________________________\n",
            "Layer (type)                 Output Shape              Param #   \n",
            "=================================================================\n",
            "input_2 (InputLayer)         [(None, 28, 28, 1)]       0         \n",
            "_________________________________________________________________\n",
            "drop_connect_conv2d (DropCon (None, 26, 26, 64)        640       \n",
            "_________________________________________________________________\n",
            "batch_normalization (BatchNo (None, 26, 26, 64)        256       \n",
            "_________________________________________________________________\n",
            "re_lu (ReLU)                 (None, 26, 26, 64)        0         \n",
            "_________________________________________________________________\n",
            "max_pooling2d (MaxPooling2D) (None, 13, 13, 64)        0         \n",
            "_________________________________________________________________\n",
            "drop_connect_conv2d_1 (DropC (None, 11, 11, 128)       73856     \n",
            "_________________________________________________________________\n",
            "batch_normalization_1 (Batch (None, 11, 11, 128)       512       \n",
            "_________________________________________________________________\n",
            "re_lu_1 (ReLU)               (None, 11, 11, 128)       0         \n",
            "_________________________________________________________________\n",
            "max_pooling2d_1 (MaxPooling2 (None, 5, 5, 128)         0         \n",
            "_________________________________________________________________\n",
            "flatten (Flatten)            (None, 3200)              0         \n",
            "_________________________________________________________________\n",
            "drop_connect_dense_1 (DropCo (None, 64)                204864    \n",
            "_________________________________________________________________\n",
            "dense_2 (Dense)              (None, 10)                650       \n",
            "=================================================================\n",
            "Total params: 280,778\n",
            "Trainable params: 280,394\n",
            "Non-trainable params: 384\n",
            "_________________________________________________________________\n"
          ],
          "name": "stdout"
        }
      ]
    },
    {
      "cell_type": "code",
      "metadata": {
        "colab": {
          "base_uri": "https://localhost:8080/"
        },
        "id": "0T0JsOog995Q",
        "outputId": "93797c15-ff5e-45da-f163-c5f32a3c0aba"
      },
      "source": [
        "# Hyperparameters\n",
        "batch_size=64\n",
        "epochs=10\n",
        "\n",
        "\n",
        "# Compile the model\n",
        "model.compile(\n",
        "    optimizer=tf.keras.optimizers.Adam(0.0001),  # Utilize optimizer\n",
        "    loss=tf.keras.losses.SparseCategoricalCrossentropy(),\n",
        "    metrics=['accuracy'])\n",
        "\n",
        "# Train the network\n",
        "history = model.fit(\n",
        "    x_train,\n",
        "    y_train,\n",
        "    batch_size=batch_size,\n",
        "    validation_split=0.1,\n",
        "    epochs=epochs)"
      ],
      "execution_count": 11,
      "outputs": [
        {
          "output_type": "stream",
          "text": [
            "Epoch 1/10\n",
            "844/844 [==============================] - 35s 10ms/step - loss: 0.2375 - accuracy: 0.9303 - val_loss: 0.0647 - val_accuracy: 0.9840\n",
            "Epoch 2/10\n",
            "844/844 [==============================] - 8s 9ms/step - loss: 0.0637 - accuracy: 0.9812 - val_loss: 0.0474 - val_accuracy: 0.9848\n",
            "Epoch 3/10\n",
            "844/844 [==============================] - 8s 9ms/step - loss: 0.0440 - accuracy: 0.9870 - val_loss: 0.0484 - val_accuracy: 0.9862\n",
            "Epoch 4/10\n",
            "844/844 [==============================] - 8s 9ms/step - loss: 0.0332 - accuracy: 0.9898 - val_loss: 0.0426 - val_accuracy: 0.9867\n",
            "Epoch 5/10\n",
            "844/844 [==============================] - 8s 9ms/step - loss: 0.0256 - accuracy: 0.9921 - val_loss: 0.0351 - val_accuracy: 0.9888\n",
            "Epoch 6/10\n",
            "844/844 [==============================] - 8s 9ms/step - loss: 0.0212 - accuracy: 0.9936 - val_loss: 0.0442 - val_accuracy: 0.9877\n",
            "Epoch 7/10\n",
            "844/844 [==============================] - 8s 10ms/step - loss: 0.0157 - accuracy: 0.9953 - val_loss: 0.0386 - val_accuracy: 0.9890\n",
            "Epoch 8/10\n",
            "844/844 [==============================] - 8s 10ms/step - loss: 0.0134 - accuracy: 0.9961 - val_loss: 0.0440 - val_accuracy: 0.9878\n",
            "Epoch 9/10\n",
            "844/844 [==============================] - 8s 9ms/step - loss: 0.0120 - accuracy: 0.9964 - val_loss: 0.0394 - val_accuracy: 0.9888\n",
            "Epoch 10/10\n",
            "844/844 [==============================] - 8s 10ms/step - loss: 0.0085 - accuracy: 0.9975 - val_loss: 0.0379 - val_accuracy: 0.9883\n"
          ],
          "name": "stdout"
        }
      ]
    },
    {
      "cell_type": "code",
      "metadata": {
        "colab": {
          "base_uri": "https://localhost:8080/"
        },
        "id": "e6WGvaJbHyqS",
        "outputId": "9863fde1-a545-4e9d-f962-da88e98e277f"
      },
      "source": [
        "# Evaluate the network\n",
        "print('Evaluate on test data:')\n",
        "results = model.evaluate(x_test, y_test, batch_size=128, verbose = 2)\n",
        "print('Test loss = {0}, Test acc: {1}'.format(results[0], results[1]))"
      ],
      "execution_count": 12,
      "outputs": [
        {
          "output_type": "stream",
          "text": [
            "Evaluate on test data:\n",
            "79/79 - 1s - loss: 0.0388 - accuracy: 0.9880\n",
            "Test loss = 0.038835447281599045, Test acc: 0.9879999756813049\n"
          ],
          "name": "stdout"
        }
      ]
    }
  ]
}